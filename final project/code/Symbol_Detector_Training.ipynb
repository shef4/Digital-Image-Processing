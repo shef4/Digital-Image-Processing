{
 "cells": [
  {
   "cell_type": "code",
   "execution_count": 11,
   "metadata": {},
   "outputs": [],
   "source": [
    "# import dependencies\n",
    "import os\n",
    "import cv2\n",
    "#import image generator\n",
    "import tensorflow as tf\n",
    "from tensorflow.keras.preprocessing.image import ImageDataGenerator\n",
    "import random\n",
    "import numpy as np\n",
    "import matplotlib.pyplot as plt\n",
    "from Symbol_Detector import Symbol_Detector"
   ]
  },
  {
   "cell_type": "code",
   "execution_count": 5,
   "metadata": {},
   "outputs": [],
   "source": [
    "# circle-0 \n",
    "# down-triangle-1 \n",
    "# square-2 \n",
    "# up-triangle-3 \n",
    "\n",
    "# load data\n",
    "def load_data(path):\n",
    "    X = []\n",
    "    Y = []\n",
    "    label = 0\n",
    "    for classes in os.listdir(path):\n",
    "        for file in os.listdir(os.path.join(path, classes)):\n",
    "            img = cv2.imread(os.path.join(path, classes, file))\n",
    "            img = cv2.resize(img, (50, 50))\n",
    "            X.append(img)\n",
    "            Y.append(label)\n",
    "        label += 1\n",
    "    return X,Y\n",
    "\n",
    "# show data\n",
    "def show_data(X):\n",
    "    plt.figure(figsize=(10, 10))\n",
    "    for i in range(9):\n",
    "        plt.subplot(3, 3, i+1)\n",
    "        plt.imshow(X[i])\n",
    "        plt.axis('off')\n",
    "        print(X[i].shape)\n",
    "        print(X[i].dtype)\n",
    "    plt.show()"
   ]
  },
  {
   "cell_type": "code",
   "execution_count": null,
   "metadata": {},
   "outputs": [],
   "source": [
    "\n",
    "# genertate data using image generator for array of cv2 images\n",
    "def generate_data(sources_file, dest_file, num_copies):\n",
    "    # create image generator\n",
    "    datagen = ImageDataGenerator(\n",
    "        rotation_range=10,\n",
    "        width_shift_range=0.1,\n",
    "        height_shift_range=0.1,\n",
    "        shear_range=0.1,\n",
    "        zoom_range=0.1,\n",
    "        horizontal_flip=True,\n",
    "        vertical_flip=True,\n",
    "        fill_mode='nearest')\n",
    "\n",
    "    # load images\n",
    "    X, Y = load_data(sources_file)\n",
    "\n",
    "    # create directory\n",
    "    if not os.path.exists(dest_file):\n",
    "        os.mkdir(dest_file)\n",
    "        \n",
    "    # create subdirectory for each class\n",
    "    classes = ['circle', 'down-triangle', 'square', 'up-triangle']\n",
    "    for i in range(4):\n",
    "        if not os.path.exists(os.path.join(dest_file, classes[i])):\n",
    "            os.mkdir(os.path.join(dest_file, classes[i]))\n",
    "\n",
    "    # generate images\n",
    "    for i in range(len(X)):\n",
    "        img = X[i]\n",
    "        img = img.reshape((1,) + img.shape)\n",
    "        j = 0\n",
    "        for batch in datagen.flow(img, batch_size=1, save_to_dir=os.path.join(dest_file, classes[Y[i]]), save_prefix='img', save_format='png'):\n",
    "            j += 1\n",
    "            if j > num_copies:\n",
    "                break\n",
    "\n",
    "# generate data\n",
    "# generate_data('data/raw/orignal/', 'data/raw/generated/', 4)\n",
    "\n",
    "# # load data\n",
    "# X, Y = load_data('data/raw/generated/')\n",
    "X, Y = load_data('data/raw/orignal/')\n",
    "\n",
    "# show data\n",
    "show_data(X)\n",
    "print(Y)\n"
   ]
  },
  {
   "cell_type": "code",
   "execution_count": 6,
   "metadata": {},
   "outputs": [],
   "source": [
    "# preprocess data\n",
    "def format_img(data):\n",
    "    data = np.array(data)\n",
    "    data = data.astype('float32')\n",
    "    data = data / 255.0\n",
    "    return data\n",
    "\n",
    "def filter_data(X):\n",
    "    filtered_data = []\n",
    "    for img in X:\n",
    "        img = cv2.cvtColor(img, cv2.COLOR_BGR2GRAY)\n",
    "        img = cv2.GaussianBlur(img, (5, 5), 0)\n",
    "        filtered_data.append(img)\n",
    "    return filtered_data\n",
    "\n",
    "def preprocess_data(source_file, dest_file):\n",
    "    X, Y = load_data(source_file)\n",
    "    X = filter_data(X)\n",
    "    X = format_img(X)\n",
    "    np.save(os.path.join(dest_file, 'X.npy'), X)\n",
    "    np.save(os.path.join(dest_file, 'Y.npy'), Y)\n",
    "\n",
    "# preprocess data\n",
    "preprocess_data('data/raw/orignal', 'data/processed')"
   ]
  },
  {
   "cell_type": "code",
   "execution_count": 9,
   "metadata": {},
   "outputs": [],
   "source": [
    "# split data into training and testing sets\n",
    "def split_data(X, Y, test_size):\n",
    "    X = np.array(X)\n",
    "    Y = np.array(Y)\n",
    "    data = list(zip(X, Y))\n",
    "    random.shuffle(data)\n",
    "    X, Y = zip(*data)\n",
    "    X = np.array(X)\n",
    "    Y = np.array(Y)\n",
    "    split = int(len(X) * test_size)\n",
    "    X_train = X[split:]\n",
    "    Y_train = Y[split:]\n",
    "    X_test = X[:split]\n",
    "    Y_test = Y[:split]\n",
    "    return X_train, Y_train, X_test, Y_test"
   ]
  },
  {
   "cell_type": "code",
   "execution_count": 12,
   "metadata": {},
   "outputs": [],
   "source": [
    "# call hyperparameter tuning class and plot accuracy and loss for each hyperparameter combination\n",
    "import tensorflow as tf\n",
    "from tensorflow import keras\n",
    "import numpy as np\n",
    "from tensorflow.keras.models import Sequential\n",
    "from tensorflow.keras.layers import Dense, Dropout, Flatten\n",
    "from tensorflow.keras.layers import Conv2D, MaxPooling2D\n",
    "from tensorflow.keras.metrics import top_k_categorical_accuracy\n",
    "from tensorflow.keras.callbacks import ModelCheckpoint, ReduceLROnPlateau, EarlyStopping\n",
    "from sklearn.model_selection import train_test_split\n",
    "X = np.load('data/processed/X.npy')\n",
    "Y = np.load('data/processed/Y.npy')\n",
    "# split data\n",
    "X_train, Y_train, X_test, Y_test = split_data(X, Y, 0.2)\n",
    "\n",
    "X_train, X_eval, Y_train, Y_eval = train_test_split(X_train, Y_train, random_state=0, train_size = .80)\n",
    "num_classes = 4\n",
    "imheight, imwidth = 50, 50\n",
    "Y_train = keras.utils.to_categorical(Y_train, num_classes)\n",
    "Y_eval = keras.utils.to_categorical(Y_eval, num_classes)"
   ]
  },
  {
   "cell_type": "code",
   "execution_count": 69,
   "metadata": {},
   "outputs": [
    {
     "name": "stdout",
     "output_type": "stream",
     "text": [
      "Model: \"sequential_22\"\n",
      "_________________________________________________________________\n",
      " Layer (type)                Output Shape              Param #   \n",
      "=================================================================\n",
      " conv2d_66 (Conv2D)          (None, 50, 50, 32)        832       \n",
      "                                                                 \n",
      " max_pooling2d_66 (MaxPoolin  (None, 25, 25, 32)       0         \n",
      " g2D)                                                            \n",
      "                                                                 \n",
      " conv2d_67 (Conv2D)          (None, 25, 25, 64)        18496     \n",
      "                                                                 \n",
      " max_pooling2d_67 (MaxPoolin  (None, 12, 12, 64)       0         \n",
      " g2D)                                                            \n",
      "                                                                 \n",
      " conv2d_68 (Conv2D)          (None, 12, 12, 64)        36928     \n",
      "                                                                 \n",
      " max_pooling2d_68 (MaxPoolin  (None, 6, 6, 64)         0         \n",
      " g2D)                                                            \n",
      "                                                                 \n",
      " dropout_44 (Dropout)        (None, 6, 6, 64)          0         \n",
      "                                                                 \n",
      " flatten_22 (Flatten)        (None, 2304)              0         \n",
      "                                                                 \n",
      " dense_44 (Dense)            (None, 728)               1678040   \n",
      "                                                                 \n",
      " dropout_45 (Dropout)        (None, 728)               0         \n",
      "                                                                 \n",
      " dense_45 (Dense)            (None, 4)                 2916      \n",
      "                                                                 \n",
      "=================================================================\n",
      "Total params: 1,737,212\n",
      "Trainable params: 1,737,212\n",
      "Non-trainable params: 0\n",
      "_________________________________________________________________\n"
     ]
    }
   ],
   "source": [
    "\n",
    "# This Block is responsible for creating a CNN and fitting the data\n",
    "epoch_number = 10\n",
    "\n",
    "model = Sequential()\n",
    "model.add(Conv2D(32, kernel_size=(5, 5), padding='same', activation='relu', input_shape=(imheight, imwidth, 1)))\n",
    "model.add(MaxPooling2D(pool_size=(2, 2)))\n",
    "\n",
    "model.add(Conv2D(64, kernel_size=(3, 3), padding='same', activation='relu'))\n",
    "model.add(MaxPooling2D(pool_size=(2, 2)))\n",
    "\n",
    "model.add(Conv2D(64, kernel_size=(3, 3), padding='same', activation='relu'))\n",
    "model.add(MaxPooling2D(pool_size=(2, 2)))\n",
    "\n",
    "model.add(Dropout(0.2))\n",
    "model.add(Flatten())\n",
    "model.add(Dense(728, activation='relu'))\n",
    "# model.add(BatchNormalization())\n",
    "model.add(Dropout(0.2))\n",
    "model.add(Dense(num_classes, activation='softmax'))\n",
    "# model.add(Dense(num_classes, activation='softmax', kernel_regularizer='l1'))\n",
    "\n",
    "model.summary()\n",
    "\n",
    "optimize = keras.optimizers.Adam(learning_rate = 0.001) \n",
    "model.compile(loss='categorical_crossentropy',\n",
    "              optimizer=optimize,\n",
    "              metrics=['accuracy'])\n",
    "\n",
    "stopper = EarlyStopping(monitor='val_accuracy', mode='max', verbose=1, patience=5)\n",
    "callback_list = [stopper]"
   ]
  },
  {
   "cell_type": "code",
   "execution_count": 70,
   "metadata": {},
   "outputs": [
    {
     "name": "stdout",
     "output_type": "stream",
     "text": [
      "Epoch 1/10\n",
      "38/38 [==============================] - 9s 189ms/step - loss: 1.3758 - accuracy: 0.3237 - val_loss: 1.3014 - val_accuracy: 0.4375\n",
      "Epoch 2/10\n",
      "38/38 [==============================] - 7s 178ms/step - loss: 1.1288 - accuracy: 0.5470 - val_loss: 0.9797 - val_accuracy: 0.6316\n",
      "Epoch 3/10\n",
      "38/38 [==============================] - 7s 181ms/step - loss: 0.8034 - accuracy: 0.7059 - val_loss: 0.7125 - val_accuracy: 0.7697\n",
      "Epoch 4/10\n",
      "38/38 [==============================] - 7s 189ms/step - loss: 0.5899 - accuracy: 0.8031 - val_loss: 0.5813 - val_accuracy: 0.8125\n",
      "Epoch 5/10\n",
      "38/38 [==============================] - 7s 176ms/step - loss: 0.5028 - accuracy: 0.8163 - val_loss: 0.5084 - val_accuracy: 0.8388\n",
      "Epoch 6/10\n",
      "38/38 [==============================] - 7s 175ms/step - loss: 0.4035 - accuracy: 0.8608 - val_loss: 0.4631 - val_accuracy: 0.8289\n",
      "Epoch 7/10\n",
      "38/38 [==============================] - 7s 172ms/step - loss: 0.3623 - accuracy: 0.8699 - val_loss: 0.4392 - val_accuracy: 0.8586\n",
      "Epoch 8/10\n",
      "38/38 [==============================] - 6s 170ms/step - loss: 0.3040 - accuracy: 0.8830 - val_loss: 0.4217 - val_accuracy: 0.8717\n",
      "Epoch 9/10\n",
      "38/38 [==============================] - 7s 176ms/step - loss: 0.2608 - accuracy: 0.9036 - val_loss: 0.4155 - val_accuracy: 0.8586\n",
      "Epoch 10/10\n",
      "38/38 [==============================] - 7s 179ms/step - loss: 0.2341 - accuracy: 0.9160 - val_loss: 0.4191 - val_accuracy: 0.8717\n"
     ]
    }
   ],
   "source": [
    "# This Block is responsible for training the model\n",
    "history_model = model.fit(x=X_train, y=Y_train,\n",
    "          batch_size = 32,\n",
    "          epochs = epoch_number,\n",
    "          validation_data = (X_eval, Y_eval),\n",
    "          verbose = 1, callbacks=callback_list)"
   ]
  },
  {
   "cell_type": "code",
   "execution_count": 71,
   "metadata": {},
   "outputs": [
    {
     "data": {
      "image/png": "[encoded data removed]",
      "text/plain": [
       "<Figure size 432x288 with 1 Axes>"
      ]
     },
     "metadata": {
      "needs_background": "light"
     },
     "output_type": "display_data"
    },
    {
     "data": {
      "image/png": "[encoded data removed]",
      "text/plain": [
       "<Figure size 432x288 with 1 Axes>"
      ]
     },
     "metadata": {
      "needs_background": "light"
     },
     "output_type": "display_data"
    }
   ],
   "source": [
    "#plot the accuracy and loss for each epoch\n",
    "plt.plot(history_model.history['accuracy'])\n",
    "plt.plot(history_model.history['val_accuracy'])\n",
    "plt.title('model accuracy')\n",
    "plt.ylabel('accuracy')\n",
    "plt.xlabel('epoch')\n",
    "plt.legend(['train', 'test'], loc='upper left')\n",
    "plt.show()\n",
    "\n",
    "plt.plot(history_model.history['loss'])\n",
    "plt.plot(history_model.history['val_loss'])\n",
    "plt.title('model loss')\n",
    "plt.ylabel('loss')\n",
    "plt.xlabel('epoch')\n",
    "plt.legend(['train', 'test'], loc='upper left')\n",
    "plt.show()\n",
    "\n"
   ]
  },
  {
   "cell_type": "code",
   "execution_count": 76,
   "metadata": {},
   "outputs": [
    {
     "name": "stdout",
     "output_type": "stream",
     "text": [
      "Test loss: 0.4563731849193573\n",
      "Test accuracy: 0.8337730765342712\n"
     ]
    }
   ],
   "source": [
    "# This Block is responsible for evaluating the model\n",
    "Y_test2 = keras.utils.to_categorical(Y_test, num_classes)\n",
    "score = model.evaluate(X_test, Y_test2, verbose=0)\n",
    "print('Test loss:', score[0])\n",
    "print('Test accuracy:', score[1])\n",
    "\n"
   ]
  },
  {
   "cell_type": "code",
   "execution_count": 77,
   "metadata": {},
   "outputs": [
    {
     "name": "stdout",
     "output_type": "stream",
     "text": [
      "Saved model to disk\n"
     ]
    }
   ],
   "source": [
    "# This Block is responsible for saving the model\n",
    "model_json = model.to_json()\n",
    "with open(\"data/model/model.json\", \"w\") as json_file:\n",
    "    json_file.write(model_json)\n",
    "# serialize weights to HDF5 \n",
    "model.save_weights(\"data/model/model.h5\")\n",
    "print(\"Saved model to disk\")\n",
    "\n"
   ]
  },
  {
   "cell_type": "code",
   "execution_count": 3,
   "metadata": {},
   "outputs": [
    {
     "name": "stdout",
     "output_type": "stream",
     "text": [
      "Loaded model from disk\n"
     ]
    }
   ],
   "source": [
    "# json to model \n",
    "from tensorflow.keras.models import model_from_json\n",
    "\n",
    "# This Block is responsible for loading the model\n",
    "json_file = open('data/model/model.json', 'r')\n",
    "loaded_model_json = json_file.read()\n",
    "json_file.close()\n",
    "loaded_model = model_from_json(loaded_model_json)\n",
    "# load weights into new model\n",
    "loaded_model.load_weights(\"data/model/model.h5\")\n",
    "print(\"Loaded model from disk\")\n",
    "\n"
   ]
  },
  {
   "cell_type": "code",
   "execution_count": 14,
   "metadata": {},
   "outputs": [
    {
     "name": "stdout",
     "output_type": "stream",
     "text": [
      "1/1 [==============================] - 0s 116ms/step\n",
      "[[9.2473958e-05 2.3151701e-02 3.0806108e-04 9.7644776e-01]]\n",
      "(50, 50)\n"
     ]
    }
   ],
   "source": [
    "\n",
    "# This Block is responsible for predicting the model\n",
    "# predict probabilities for test example\n",
    "pred = loaded_model.predict(X_test[0].reshape(1, 50, 50, 1)) \n",
    "print(pred)\n",
    "print(X_test[0].shape)\n"
   ]
  },
  {
   "cell_type": "code",
   "execution_count": null,
   "metadata": {},
   "outputs": [],
   "source": []
  }
 ],
 "metadata": {
  "kernelspec": {
   "display_name": "Python 3.9.13 64-bit (microsoft store)",
   "language": "python",
   "name": "python3"
  },
  "language_info": {
   "codemirror_mode": {
    "name": "ipython",
    "version": 3
   },
   "file_extension": ".py",
   "mimetype": "text/x-python",
   "name": "python",
   "nbconvert_exporter": "python",
   "pygments_lexer": "ipython3",
   "version": "3.9.13 (tags/v3.9.13:6de2ca5, May 17 2022, 16:36:42) [MSC v.1929 64 bit (AMD64)]"
  },
  "orig_nbformat": 4,
  "vscode": {
   "interpreter": {
    "hash": "4bc1b6540c1e5d4fc47617a1e73be04a796ca42dcf02d0e886ec9883aabc8f3c"
   }
  }
 },
 "nbformat": 4,
 "nbformat_minor": 2
}
